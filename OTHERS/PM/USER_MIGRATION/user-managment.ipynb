{
 "cells": [
  {
   "cell_type": "code",
   "execution_count": 1,
   "metadata": {},
   "outputs": [],
   "source": [
    "import pandas as pd\n",
    "import os\n",
    "from dotenv import load_dotenv\n",
    "import snowflake.connector\n",
    "from snowflake.connector.pandas_tools import write_pandas\n",
    "import datetime\n",
    "import random\n",
    "import math"
   ]
  },
  {
   "cell_type": "code",
   "execution_count": 2,
   "metadata": {},
   "outputs": [],
   "source": [
    "# read db credential\n",
    "load_dotenv()\n",
    "# make connection\n",
    "connection = snowflake.connector.connect(\n",
    "            user=os.getenv('USER'),\n",
    "            password=os.getenv('PASSWORD'),\n",
    "            account=os.getenv('ACCOUNT'),\n",
    "            warehouse=os.getenv('WAREHOUSE'),\n",
    "            role=os.getenv('ROLE'),\n",
    "            database=os.getenv('DATABASE'),\n",
    "            schema='I2B2PM'\n",
    ")"
   ]
  },
  {
   "cell_type": "code",
   "execution_count": 3,
   "metadata": {},
   "outputs": [],
   "source": [
    "def write_data(sql):\n",
    "    cur = connection.cursor()\n",
    "    try:    \n",
    "        cur.execute(sql)\n",
    "    finally:\n",
    "        cur.close()"
   ]
  },
  {
   "cell_type": "code",
   "execution_count": 4,
   "metadata": {},
   "outputs": [],
   "source": [
    "def read_data(sql):\n",
    "    cur = connection.cursor()\n",
    "    try:    \n",
    "        cur.execute(sql)\n",
    "        df = cur.fetch_pandas_all()\n",
    "    finally:\n",
    "        cur.close()\n",
    "    return df"
   ]
  },
  {
   "cell_type": "code",
   "execution_count": 5,
   "metadata": {},
   "outputs": [],
   "source": [
    "def dfUserRole(project_id: str, userId, isAdmin):\n",
    "    # sql = f'delete from PM_PROJECT_USER_ROLES' \\\n",
    "    #     'where PROJECT_ID = \\'{project_id}\\' and user_id = \\'{userId}\\''\n",
    "    \n",
    "    # write_data(sql)\n",
    "    \n",
    "    initial_roles = ['USER', 'DATA_OBFSC', 'DATA_AGG', 'DATA_LDS', 'DATA_DEID']\n",
    "    admin_roles = ['DATA_PROT','MANAGER', 'EDITOR']\n",
    "    \n",
    "    if isAdmin == True:\n",
    "        initial_roles.extend(admin_roles)\n",
    "\n",
    "    rows = map(lambda role: {\n",
    "            'PROJECT_ID': project_id,\n",
    "            'USER_ID': userId,\n",
    "            'USER_ROLE_CD': role,\n",
    "            'CHANGE_DATE': None,\n",
    "            'ENTRY_DATE': None,\n",
    "            'CHANGEBY_CHAR': None,\n",
    "            'STATUS_CD': 'A'\n",
    "        }, initial_roles)\n",
    "    \n",
    "    df = pd.DataFrame(rows)\n",
    "    return df\n",
    "    # write_pandas(connection, df, 'PM_PROJECT_USER_ROLES')\n",
    "    "
   ]
  },
  {
   "cell_type": "code",
   "execution_count": 11,
   "metadata": {},
   "outputs": [],
   "source": [
    "def dfUserAsAdmin(userId):\n",
    "    # sql = f'delete from PM_PROJECT_USER_ROLES' \\\n",
    "    # 'where PROJECT_ID = \\'@\\' and user_id = \\'{userId}\\''\n",
    "    initial_roles = ['ADMIN']\n",
    "    rows = map(lambda role: {\n",
    "            'PROJECT_ID': '@',\n",
    "            'USER_ID': userId,\n",
    "            'USER_ROLE_CD': role,\n",
    "            'CHANGE_DATE': None,\n",
    "            'ENTRY_DATE': None,\n",
    "            'CHANGEBY_CHAR': None,\n",
    "            'STATUS_CD': 'A'\n",
    "        }, initial_roles)\n",
    "    df = pd.DataFrame(rows)\n",
    "    return df"
   ]
  },
  {
   "cell_type": "code",
   "execution_count": 13,
   "metadata": {},
   "outputs": [
    {
     "name": "stdout",
     "output_type": "stream",
     "text": [
      "   PROJECT_ID              USER_ID USER_ROLE_CD CHANGE_DATE ENTRY_DATE  \\\n",
      "0         ACT  szaboj@umsystem.edu         USER        None       None   \n",
      "1         ACT  szaboj@umsystem.edu   DATA_OBFSC        None       None   \n",
      "2         ACT  szaboj@umsystem.edu     DATA_AGG        None       None   \n",
      "3         ACT  szaboj@umsystem.edu     DATA_LDS        None       None   \n",
      "4         ACT  szaboj@umsystem.edu    DATA_DEID        None       None   \n",
      "..        ...                  ...          ...         ...        ...   \n",
      "0         ACT    niux@umsystem.edu         USER        None       None   \n",
      "1         ACT    niux@umsystem.edu   DATA_OBFSC        None       None   \n",
      "2         ACT    niux@umsystem.edu     DATA_AGG        None       None   \n",
      "3         ACT    niux@umsystem.edu     DATA_LDS        None       None   \n",
      "4         ACT    niux@umsystem.edu    DATA_DEID        None       None   \n",
      "\n",
      "   CHANGEBY_CHAR STATUS_CD  \n",
      "0           None         A  \n",
      "1           None         A  \n",
      "2           None         A  \n",
      "3           None         A  \n",
      "4           None         A  \n",
      "..           ...       ...  \n",
      "0           None         A  \n",
      "1           None         A  \n",
      "2           None         A  \n",
      "3           None         A  \n",
      "4           None         A  \n",
      "\n",
      "[484 rows x 7 columns]\n"
     ]
    }
   ],
   "source": [
    "admins = ['mhmcb@umsystem.edu']\n",
    "sql = 'select USER_ID from PM_USER_DATA'\n",
    "read_df = read_data(sql)\n",
    "df = pd.DataFrame()\n",
    "for index, row in read_df.iterrows():\n",
    "    anAdmin = True if row['USER_ID'] in admins else False\n",
    "    if anAdmin == True:\n",
    "        df = pd.concat([df, dfUserAsAdmin(row['USER_ID'])])\n",
    "    df = pd.concat([df, dfUserRole('ACT', row['USER_ID'], isAdmin= anAdmin)])\n",
    "print(df)"
   ]
  },
  {
   "cell_type": "code",
   "execution_count": null,
   "metadata": {},
   "outputs": [],
   "source": []
  },
  {
   "cell_type": "code",
   "execution_count": 43,
   "metadata": {},
   "outputs": [
    {
     "name": "stdout",
     "output_type": "stream",
     "text": [
      "  PROJECT_ID             USER_ID USER_ROLE_CD CHANGE_DATE ENTRY_DATE  \\\n",
      "0        ACT  mhmcb@umsystem.edu         USER        None       None   \n",
      "1        ACT  mhmcb@umsystem.edu   DATA_OBFSC        None       None   \n",
      "2        ACT  mhmcb@umsystem.edu     DATA_AGG        None       None   \n",
      "3        ACT  mhmcb@umsystem.edu     DATA_LDS        None       None   \n",
      "4        ACT  mhmcb@umsystem.edu    DATA_DEID        None       None   \n",
      "5        ACT  mhmcb@umsystem.edu    DATA_PROT        None       None   \n",
      "6        ACT  mhmcb@umsystem.edu      MANAGER        None       None   \n",
      "7        ACT  mhmcb@umsystem.edu       EDITOR        None       None   \n",
      "8          @  mhmcb@umsystem.edu        ADMIN        None       None   \n",
      "\n",
      "  CHANGEBY_CHAR STATUS_CD  \n",
      "0          None         A  \n",
      "1          None         A  \n",
      "2          None         A  \n",
      "3          None         A  \n",
      "4          None         A  \n",
      "5          None         A  \n",
      "6          None         A  \n",
      "7          None         A  \n",
      "8          None         A  \n"
     ]
    }
   ],
   "source": [
    "\n",
    "\n",
    "addUserAsAdmin('mhmcb@umsystem.edu')\n",
    "grantUserRole('ACT', 'mhmcb@umsystem.edu', True)\n"
   ]
  },
  {
   "cell_type": "code",
   "execution_count": null,
   "metadata": {},
   "outputs": [],
   "source": [
    "df = pd.read_csv('pm_project_user_roles.csv')\n",
    "df.rename(columns=lambda x: x.upper(), inplace=True)\n",
    "table_name = 'pm_project_user_roles'.upper()\n",
    "sql_text = f'truncate table {table_name}'\n",
    "write_data(sql_text)\n",
    "write_pandas(connection, df, table_name)"
   ]
  },
  {
   "cell_type": "code",
   "execution_count": 2,
   "metadata": {},
   "outputs": [
    {
     "data": {
      "text/html": [
       "<div>\n",
       "<style scoped>\n",
       "    .dataframe tbody tr th:only-of-type {\n",
       "        vertical-align: middle;\n",
       "    }\n",
       "\n",
       "    .dataframe tbody tr th {\n",
       "        vertical-align: top;\n",
       "    }\n",
       "\n",
       "    .dataframe thead th {\n",
       "        text-align: right;\n",
       "    }\n",
       "</style>\n",
       "<table border=\"1\" class=\"dataframe\">\n",
       "  <thead>\n",
       "    <tr style=\"text-align: right;\">\n",
       "      <th></th>\n",
       "      <th>PROJECT_ID</th>\n",
       "      <th>USER_ID</th>\n",
       "      <th>USER_ROLE_CD</th>\n",
       "      <th>CHANGE_DATE</th>\n",
       "      <th>ENTRY_DATE</th>\n",
       "      <th>CHANGEBY_CHAR</th>\n",
       "      <th>STATUS_CD</th>\n",
       "    </tr>\n",
       "  </thead>\n",
       "  <tbody>\n",
       "  </tbody>\n",
       "</table>\n",
       "</div>"
      ],
      "text/plain": [
       "Empty DataFrame\n",
       "Columns: [PROJECT_ID, USER_ID, USER_ROLE_CD, CHANGE_DATE, ENTRY_DATE, CHANGEBY_CHAR, STATUS_CD]\n",
       "Index: []"
      ]
     },
     "execution_count": 2,
     "metadata": {},
     "output_type": "execute_result"
    }
   ],
   "source": [
    "    \n",
    "df = pd.DataFrame({\n",
    "        'PROJECT_ID': pd.Series(dtype='str'),\n",
    "        'USER_ID': pd.Series(dtype='str'),\n",
    "        'USER_ROLE_CD': pd.Series(dtype='str'),\n",
    "        'CHANGE_DATE': pd.Series(dtype='object'),\n",
    "        'ENTRY_DATE': pd.Series(dtype='object'),\n",
    "        'CHANGEBY_CHAR': pd.Series(dtype='str'),\n",
    "        'STATUS_CD': pd.Series(dtype='str'),\n",
    "})\n",
    "\n",
    "\n"
   ]
  }
 ],
 "metadata": {
  "kernelspec": {
   "display_name": "Python 3 (ipykernel)",
   "language": "python",
   "name": "python3"
  },
  "language_info": {
   "name": "python",
   "version": "3.8.9"
  },
  "orig_nbformat": 4,
  "vscode": {
   "interpreter": {
    "hash": "31f2aee4e71d21fbe5cf8b01ff0e069b9275f58929596ceb00d14d90e3e16cd6"
   }
  }
 },
 "nbformat": 4,
 "nbformat_minor": 2
}

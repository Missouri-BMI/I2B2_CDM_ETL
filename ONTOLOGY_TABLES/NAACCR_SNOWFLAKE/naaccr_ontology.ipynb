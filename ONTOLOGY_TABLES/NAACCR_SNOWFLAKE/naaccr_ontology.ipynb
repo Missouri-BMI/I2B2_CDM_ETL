{
 "cells": [
  {
   "cell_type": "code",
   "execution_count": 1,
   "metadata": {},
   "outputs": [],
   "source": [
    "import pandas as pd\n",
    "import os\n",
    "import datetime\n",
    "from dotenv import dotenv_values\n",
    "import snowflake.connector as sc\n",
    "import snowflake.connector.pandas_tools as snp\n",
    "import re"
   ]
  },
  {
   "cell_type": "code",
   "execution_count": 2,
   "metadata": {},
   "outputs": [],
   "source": [
    "csv_path = os.path.join(os.getcwd(), 'resources')\n",
    "time_st = datetime.datetime.now()"
   ]
  },
  {
   "cell_type": "code",
   "execution_count": 3,
   "metadata": {},
   "outputs": [
    {
     "name": "stdout",
     "output_type": "stream",
     "text": [
      "(733, 4)\n",
      "(729, 4)\n"
     ]
    }
   ],
   "source": [
    "naaccr_hierarchy_path = os.path.join(csv_path, 'DataItems.csv')\n",
    "df_hierarchy = pd.read_csv(naaccr_hierarchy_path)\n",
    "df_hierarchy = df_hierarchy[[\"Data Item Number\", \"Data Item Name\", \"Section Name\", \"XML NAACCR ID\"]]\n",
    "# print(df_hierarchy[\"Section Name\"].unique())\n",
    "df_hierarchy = df_hierarchy[~df_hierarchy['Section Name'].isin(['Record ID', 'Patient-Confidential', 'Hospital-Confidential', 'Other-Confidential'])]\n",
    "print(df_hierarchy.shape)\n",
    "# df_hierarchy.head()\n",
    "df_hierarchy = df_hierarchy[~df_hierarchy['Data Item Number'].isin([420, 430, 522, 523])]\n",
    "print(df_hierarchy.shape)\n"
   ]
  },
  {
   "cell_type": "code",
   "execution_count": 4,
   "metadata": {},
   "outputs": [
    {
     "data": {
      "text/plain": [
       "(3877, 4)"
      ]
     },
     "execution_count": 4,
     "metadata": {},
     "output_type": "execute_result"
    }
   ],
   "source": [
    "naaccr_code_list_path = os.path.join(csv_path, 'CodeList.csv')\n",
    "df_code_list = pd.read_csv(naaccr_code_list_path)\n",
    "df_code_list = df_code_list[[\"Data Item Number\", \"Data Item Name\", \"Code\", \"Description\"]]\n",
    "df_code_list = df_code_list.drop_duplicates()\n",
    "df_code_list.shape"
   ]
  },
  {
   "cell_type": "code",
   "execution_count": 5,
   "metadata": {},
   "outputs": [
    {
     "data": {
      "text/plain": [
       "(423, 3)"
      ]
     },
     "execution_count": 5,
     "metadata": {},
     "output_type": "execute_result"
    }
   ],
   "source": [
    "naaccr_alternate_names_path = os.path.join(csv_path, 'AlternateNames.csv')\n",
    "df_alternate_names = pd.read_csv(naaccr_alternate_names_path)\n",
    "df_alternate_names = df_alternate_names[[\"Data Item Number\", \"Data Item Name\", \"Alternate Name\"]]\n",
    "df_alternate_names.shape"
   ]
  },
  {
   "cell_type": "code",
   "execution_count": 6,
   "metadata": {},
   "outputs": [],
   "source": [
    "# ontology schema \n",
    "ddl_def = {\n",
    "    \"C_HLEVEL\" : \"int64\",\n",
    "    \"C_FULLNAME\" : \"str\",\n",
    "    \"C_NAME\" : \"str\",\n",
    "    \"C_SYNONYM_CD\" : \"str\",\n",
    "    \"C_VISUALATTRIBUTES\" : \"str\",\n",
    "    \"C_TOTALNUM\" : \"int64\",\n",
    "    \"C_BASECODE\" : \"str\",\n",
    "    \"C_METADATAXML\" : \"str\",\n",
    "    \"C_FACTTABLECOLUMN\" : \"str\",\n",
    "    \"C_TABLENAME\" : \"str\",\n",
    "    \"C_COLUMNNAME\" : \"str\",\n",
    "    \"C_COLUMNDATATYPE\" : \"str\",\n",
    "    \"C_OPERATOR\" : \"str\",\n",
    "    \"C_DIMCODE\" : \"str\",\n",
    "    \"C_COMMENT\" : \"str\",\n",
    "    \"C_TOOLTIP\" : \"str\",\n",
    "    \"M_APPLIED_PATH\" : \"str\",\n",
    "    \"UPDATE_DATE\"  : \"datetime64[ns]\",\n",
    "    \"DOWNLOAD_DATE\" : \"datetime64[ns]\",\n",
    "    \"IMPORT_DATE\"  : \"datetime64[ns]\",\n",
    "    \"SOURCESYSTEM_CD\"  : \"str\",\n",
    "    \"VALUETYPE_CD\"  : \"str\",\n",
    "    \"M_EXCLUSION_CD\"  : \"str\",\n",
    "    \"C_PATH\" : \"str\",\n",
    "    \"C_SYMBOL\"  : \"str\"\n",
    "}"
   ]
  },
  {
   "cell_type": "code",
   "execution_count": 7,
   "metadata": {},
   "outputs": [],
   "source": [
    "# Fixed columns\n",
    "\n",
    "fixed = {\n",
    "    \"C_SYNONYM_CD\" : 'N',\n",
    "    \"C_TOTALNUM\" : None,\n",
    "    \"C_METADATAXML\" : None,\n",
    "    \"C_FACTTABLECOLUMN\" : 'TUMOR_FACT.CONCEPT_CD',\n",
    "    \"C_TABLENAME\" : 'CONCEPT_DIMENSION',\n",
    "    \"C_COLUMNNAME\" : 'CONCEPT_PATH',\n",
    "    \"C_COLUMNDATATYPE\" : 'T',\n",
    "    \"C_OPERATOR\" : 'LIKE',\n",
    "    \"C_COMMENT\" : None,\n",
    "    \"M_APPLIED_PATH\" : '@',\n",
    "    \"UPDATE_DATE\" : time_st,\n",
    "    \"DOWNLOAD_DATE\" : time_st,\n",
    "    \"IMPORT_DATE\" : time_st,\n",
    "    \"SOURCESYSTEM_CD\" : 'MU',\n",
    "    \"VALUETYPE_CD\" : None,\n",
    "    \"M_EXCLUSION_CD\" : '@',\n",
    "    \"C_PATH\" : None,\n",
    "    \"C_SYMBOL\" : None\n",
    "}"
   ]
  },
  {
   "cell_type": "code",
   "execution_count": 8,
   "metadata": {},
   "outputs": [],
   "source": [
    "# create template table\n",
    "final_df = pd.DataFrame(columns=ddl_def.keys()).astype(ddl_def)"
   ]
  },
  {
   "cell_type": "code",
   "execution_count": 9,
   "metadata": {},
   "outputs": [],
   "source": [
    "# create root\n",
    "# insert top order\n",
    "c_fullname = '\\\\i2b2\\\\naaccr\\\\'\n",
    "\n",
    "entry = {\n",
    "    \"C_HLEVEL\" : 1,\n",
    "    \"C_FULLNAME\" : c_fullname,\n",
    "    \"C_NAME\" : 'Cancer Cases (NAACCR Hierarchy)',\n",
    "    \"C_BASECODE\" : None,\n",
    "    \"C_VISUALATTRIBUTES\" : 'FA',\n",
    "    \"C_DIMCODE\" : c_fullname,\n",
    "    \"C_TOOLTIP\" : c_fullname.replace('\\\\',' \\\\ ')\n",
    "}\n",
    "root_df = pd.DataFrame([entry | fixed])"
   ]
  },
  {
   "cell_type": "code",
   "execution_count": 10,
   "metadata": {},
   "outputs": [],
   "source": [
    "## create sections\n",
    "elements = []\n",
    "\n",
    "hierarchy_order_path = os.path.join(csv_path, 'SectionHierarchy.csv')\n",
    "hierarchy_order = pd.read_csv(hierarchy_order_path)\n",
    "\n",
    "for section in df_hierarchy[\"Section Name\"].unique():\n",
    "    item_c_fullname = c_fullname + f\"{section}\\\\\"\n",
    "    hierarcy = int(hierarchy_order.loc[hierarchy_order['Section Name'] == section, 'Section Hierarchy'].iloc[0])\n",
    "    entry = {\n",
    "        \"C_HLEVEL\" : 2,\n",
    "        \"C_FULLNAME\" : item_c_fullname,\n",
    "        \"C_NAME\" : f\"{hierarcy:02} \" + section,\n",
    "        \"C_BASECODE\" : None,\n",
    "        \"C_VISUALATTRIBUTES\" : 'FA',\n",
    "        \"C_DIMCODE\" : item_c_fullname,\n",
    "        \"C_TOOLTIP\" : item_c_fullname.replace('\\\\',' \\\\ ')\n",
    "    }\n",
    "    elements.append(entry | fixed)\n",
    "    \n",
    "section_df = pd.DataFrame(elements)\n"
   ]
  },
  {
   "cell_type": "code",
   "execution_count": 11,
   "metadata": {},
   "outputs": [],
   "source": [
    "## create items\n",
    "elements = []\n",
    "\n",
    "for index, row in df_hierarchy.iterrows():\n",
    "    section = row[\"Section Name\"]\n",
    "    item_name = row[\"Data Item Name\"]\n",
    "    item_num = row[\"Data Item Number\"]\n",
    "    unique_id = row[\"XML NAACCR ID\"]\n",
    "    base_code = f\"NAACCR|{item_num}\"\n",
    "    \n",
    "    item_c_fullname = c_fullname + f\"{section}\\\\\" + f\"{unique_id}\\\\\"\n",
    "    entry = {\n",
    "        \"C_HLEVEL\" : 3,\n",
    "        \"C_FULLNAME\" :  item_c_fullname,\n",
    "        \"C_NAME\" : f\"{int(item_num):04} \" + item_name,\n",
    "        \"C_BASECODE\" : base_code,\n",
    "        \"C_VISUALATTRIBUTES\" : 'FA',\n",
    "        \"C_DIMCODE\" : item_c_fullname,\n",
    "        \"C_TOOLTIP\" : item_c_fullname.replace('\\\\',' \\\\ ')\n",
    "    }\n",
    "    elements.append(entry | fixed)\n",
    "item_df = pd.DataFrame(elements)"
   ]
  },
  {
   "cell_type": "code",
   "execution_count": 12,
   "metadata": {},
   "outputs": [],
   "source": [
    "# create code items\n",
    "elements = []\n",
    "df_code_list = df_code_list.merge(\n",
    "    df_hierarchy[[\"Data Item Number\", \"Section Name\", \"XML NAACCR ID\"]],\n",
    "    on=\"Data Item Number\",\n",
    "    how='inner'\n",
    ")\n",
    "\n",
    "for index, row in df_code_list.iterrows():\n",
    "    item_name = row[\"Data Item Name\"]\n",
    "    item_num = row[\"Data Item Number\"]\n",
    "    item_desc = row[\"Description\"]\n",
    "    unique_id = row[\"XML NAACCR ID\"]\n",
    "    code_value = row[\"Code\"]\n",
    "    code_value = code_value[:30]\n",
    "    section = row[\"Section Name\"]\n",
    "    base_code = f\"NAACCR|{item_num}:{code_value}\"\n",
    "    item_c_fullname = c_fullname + f\"{section}\\\\\" + f\"{unique_id}\\\\\" + f\"{code_value}\\\\\"\n",
    "    entry = {\n",
    "        \"C_HLEVEL\" : 4,\n",
    "        \"C_FULLNAME\" :  item_c_fullname,\n",
    "        \"C_NAME\" : item_desc,\n",
    "        \"C_BASECODE\" : base_code,\n",
    "        \"C_VISUALATTRIBUTES\" : 'LA',\n",
    "        \"C_DIMCODE\" : item_c_fullname,\n",
    "        \"C_TOOLTIP\" : item_c_fullname.replace('\\\\',' \\\\ ')\n",
    "    }\n",
    "    elements.append(entry | fixed)\n",
    "code_df = pd.DataFrame(elements)"
   ]
  },
  {
   "cell_type": "code",
   "execution_count": 13,
   "metadata": {},
   "outputs": [],
   "source": [
    " ## primary sites topography\n",
    "\n",
    "def is_code_in_range(code, range_str):\n",
    "    # Define the pattern for the range\n",
    "    range_pattern = re.compile(r'^C(\\d{2})-C(\\d{2})$')\n",
    "    match = range_pattern.match(range_str)\n",
    "    if not match:\n",
    "        raise ValueError(\"Range string does not match the pattern CXX-CXX\")\n",
    "    \n",
    "    start_code = int(match.group(1))\n",
    "    end_code = int(match.group(2))\n",
    "    code_number = int(code[1:])  # Remove the 'C' and convert the rest to an integer\n",
    "    \n",
    "    return start_code <= code_number <= end_code\n",
    "\n",
    "def extract_topoloy(path):\n",
    "    # Open the text file in read mode\n",
    "    with open(path, 'r') as file:\n",
    "        # Read the file line by line\n",
    "        main_categories = []\n",
    "        sub_categories = []\n",
    "        items = []\n",
    "        for line in file:\n",
    "            # Strip leading/trailing whitespace characters\n",
    "            line = line.strip()\n",
    "            # Process the line (for example, print it)\n",
    "            # Define the regex patterns\n",
    "            pattern1 = re.compile(r'^C\\d{2}-C\\d{2} .*$')       # Matches CXX-CXX\n",
    "            pattern2 = re.compile(r'^C\\d{2} .*$')              # Matches CXX\n",
    "            pattern3 = re.compile(r'^C\\d{2}\\.\\d .*$')          # Matches CXX.X\n",
    "\n",
    "            if pattern1.match(line):\n",
    "                main_categories.append(line)\n",
    "            elif pattern2.match(line):\n",
    "                sub_categories.append(line)\n",
    "            elif pattern3.match(line):    \n",
    "                items.append(line)\n",
    "            else: \n",
    "                print(\"Does not match any pattern\")\n",
    "\n",
    "        return main_categories, sub_categories, items\n",
    "    \n",
    "# Extract topology \n",
    "topography_path = os.path.join(csv_path, 'seer-api', 'topography-manually.txt')\n",
    "main_categories, sub_categories, items = extract_topoloy(topography_path)\n"
   ]
  },
  {
   "cell_type": "code",
   "execution_count": 14,
   "metadata": {},
   "outputs": [],
   "source": [
    "c_base_code = 'NAACCR|400'\n",
    "primary_site = item_df.loc[item_df[\"C_BASECODE\"] == c_base_code].iloc[0]\n",
    "base_fullname = primary_site['C_FULLNAME']\n",
    "base_level = primary_site['C_HLEVEL']\n",
    "primary_site_elements = []\n",
    "## create main hierarchy\n",
    "for main_item in main_categories:\n",
    "    main_item_splits = main_item.split(' ')\n",
    "    code_value = main_item_splits[0]\n",
    "    level = base_level + 1\n",
    "    item_c_fullname = base_fullname + f\"{code_value}\\\\\"\n",
    "    entry = {\n",
    "        \"C_HLEVEL\" : level,\n",
    "        \"C_FULLNAME\" :  item_c_fullname,\n",
    "        \"C_NAME\" : main_item,\n",
    "        \"C_BASECODE\" : c_base_code + ':' + code_value,\n",
    "        \"C_VISUALATTRIBUTES\" : 'FA',\n",
    "        \"C_DIMCODE\" : item_c_fullname,\n",
    "        \"C_TOOLTIP\" : item_c_fullname.replace('\\\\',' \\\\ ')\n",
    "    }\n",
    "    primary_site_elements.append(entry | fixed)\n",
    "\n",
    "## create sub hierarchy\n",
    "for sub_category_item in sub_categories:\n",
    "    sub_category_item_split = sub_category_item.split(' ')\n",
    "    sub_category_item_split_code_value = sub_category_item_split[0]\n",
    "    range_value = None\n",
    "    for main_item in main_categories:\n",
    "        main_item_range = main_item.split(' ')[0]\n",
    "        if is_code_in_range(sub_category_item_split_code_value, main_item_range):\n",
    "            range_value = main_item_range\n",
    "            break\n",
    "    if range_value:\n",
    "        level = base_level + 2\n",
    "        item_c_fullname = base_fullname +  f\"{range_value}\\\\\" + f\"{sub_category_item_split_code_value}\\\\\"\n",
    "        \n",
    "    else:\n",
    "        level = base_level + 1\n",
    "        item_c_fullname = base_fullname + f\"{sub_category_item_split_code_value}\\\\\"\n",
    "    \n",
    "    entry = {\n",
    "            \"C_HLEVEL\" : level,\n",
    "            \"C_FULLNAME\" :  item_c_fullname,\n",
    "            \"C_NAME\" : sub_category_item,\n",
    "            \"C_BASECODE\" : c_base_code + ':' + sub_category_item_split_code_value,\n",
    "            \"C_VISUALATTRIBUTES\" : 'FA',\n",
    "            \"C_DIMCODE\" : item_c_fullname,\n",
    "            \"C_TOOLTIP\" : item_c_fullname.replace('\\\\',' \\\\ ')\n",
    "        }\n",
    "    primary_site_elements.append(entry | fixed)\n",
    "\n",
    "## populate items\n",
    "for item in items:\n",
    "    item_split = item.split(' ')\n",
    "    code_item = item_split[0]\n",
    "    \n",
    "    subcategory_item = code_item.split('.')[0]\n",
    "\n",
    "    range_value = None\n",
    "    for main_item in main_categories:\n",
    "        main_item_range = main_item.split(' ')[0]\n",
    "        if is_code_in_range(subcategory_item, main_item_range):\n",
    "            range_value = main_item_range\n",
    "            break\n",
    "    if range_value:\n",
    "        level = base_level + 3\n",
    "        item_c_fullname = base_fullname +  f\"{range_value}\\\\\" + f\"{subcategory_item}\\\\\" + f\"{item}\\\\\"\n",
    "        \n",
    "    else:\n",
    "        level = base_level + 2\n",
    "        item_c_fullname = base_fullname + f\"{subcategory_item}\\\\\" + f\"{item}\\\\\"\n",
    "    \n",
    "    entry = {\n",
    "            \"C_HLEVEL\" : level,\n",
    "            \"C_FULLNAME\" :  item_c_fullname,\n",
    "            \"C_NAME\" : item,\n",
    "            \"C_BASECODE\" : c_base_code + ':' + code_item.replace('.',''),\n",
    "            \"C_VISUALATTRIBUTES\" : 'LA',\n",
    "            \"C_DIMCODE\" : item_c_fullname,\n",
    "            \"C_TOOLTIP\" : item_c_fullname.replace('\\\\',' \\\\ ')\n",
    "        }\n",
    "    primary_site_elements.append(entry | fixed)\n",
    "\n",
    "    \n",
    "primary_site_df = pd.DataFrame(primary_site_elements)"
   ]
  },
  {
   "cell_type": "code",
   "execution_count": 15,
   "metadata": {},
   "outputs": [],
   "source": [
    "# morphology from histology + behavior\n",
    "# hide histology and behavior icd-0-2 and icd-0-3 \n",
    "morph_path = os.path.join(csv_path, 'morphology.xls')\n",
    "\n",
    "morph_df = pd.read_excel(morph_path,index_col=None, header=None, skiprows=2)\n",
    "morph_df = morph_df.iloc[:, :3]\n",
    "morph_df.columns = ['Code', 'Level', 'Term']\n",
    "morph_df = morph_df[(morph_df[\"Level\"] != 'Synonym') & (morph_df[\"Level\"] != 'Related')]\n",
    "\n",
    "morph_hierarchy = morph_df[morph_df[\"Level\"] != 'Preferred']\n",
    "morph_items = morph_df[morph_df[\"Level\"] == 'Preferred']"
   ]
  },
  {
   "cell_type": "code",
   "execution_count": 16,
   "metadata": {},
   "outputs": [],
   "source": [
    "def code_in_range(code: str, parent_code: str):\n",
    "    code_split = code.split('-')\n",
    "    parent_code_split = parent_code.split('-')\n",
    "    if len(parent_code_split) == 1:\n",
    "        return code == parent_code\n",
    "    code_left = int(code_split[0])\n",
    "    parent_left = int(parent_code_split[0])\n",
    "    parent_right = int(parent_code_split[1])\n",
    "    return code_left in range(parent_left, parent_right + 1)"
   ]
  },
  {
   "cell_type": "code",
   "execution_count": 17,
   "metadata": {},
   "outputs": [],
   "source": [
    "root_node  = section_df.loc[section_df[\"C_NAME\"] == '01 Cancer Identification'].iloc[0]\n",
    "base_fullname = root_node[\"C_FULLNAME\"] + 'MORPHOLOGY' + '\\\\'\n",
    "base_level = root_node[\"C_HLEVEL\"]\n",
    "base_code = 'NAACCR|MORPH'\n",
    "\n",
    "morph_elements = []\n",
    "\n",
    "for index, item in morph_hierarchy.iterrows():\n",
    "    code_item = str(item[\"Code\"])\n",
    "    code_level = int(item[\"Level\"])\n",
    "    code_term = str(item[\"Term\"])\n",
    "    c_hlevel = base_level + int(code_level)\n",
    "    if code_item == 'nan':\n",
    "        c_fullname = base_fullname \n",
    "        c_base_code = base_code\n",
    "    else:\n",
    "        parent_full_name = base_fullname\n",
    "        prev_entries = morph_hierarchy.loc[morph_hierarchy[\"Level\"] < code_level]\n",
    "        for i, entry in prev_entries.iterrows():\n",
    "            entry_item = str(entry[\"Code\"])\n",
    "            if code_in_range(code_item, entry_item):\n",
    "                parent_full_name = base_fullname + entry_item + '\\\\'\n",
    "                break\n",
    "            \n",
    "        c_fullname = parent_full_name + code_item + '\\\\'\n",
    "        c_base_code = base_code + \":\" + code_item\n",
    "\n",
    "    entry = {\n",
    "            \"C_HLEVEL\" : c_hlevel,\n",
    "            \"C_FULLNAME\" :  c_fullname,\n",
    "            \"C_NAME\" : ('' if code_item == 'nan' else code_item + ' ') + code_term,\n",
    "            \"C_BASECODE\" : c_base_code,\n",
    "            \"C_VISUALATTRIBUTES\" : 'FA',\n",
    "            \"C_DIMCODE\" : c_fullname,\n",
    "            \"C_TOOLTIP\" : c_fullname.replace('\\\\',' \\\\ ')\n",
    "        }\n",
    "    morph_elements.append(entry | fixed)\n",
    "\n",
    "morph_elements_df = pd.DataFrame(morph_elements)"
   ]
  },
  {
   "cell_type": "code",
   "execution_count": 18,
   "metadata": {},
   "outputs": [],
   "source": [
    "morph_elements_items = []\n",
    "\n",
    "for index, item in morph_items.iterrows():\n",
    "    code_item = str(item[\"Code\"])\n",
    "    code_term = str(item[\"Term\"])\n",
    "    pref = code_item[:3]\n",
    "    c_base_code = base_code + \":\" + code_item\n",
    "    \n",
    "    for i, entry in morph_elements_df.sort_values(\"C_HLEVEL\", ascending=False).iterrows():\n",
    "            b_level = entry[\"C_HLEVEL\"]\n",
    "            if b_level == 3:\n",
    "                continue\n",
    "            c_parent_full_name = entry[\"C_FULLNAME\"]\n",
    "            c_fullname = c_parent_full_name + code_item + '\\\\'\n",
    "    \n",
    "            entry_base_code = entry[\"C_BASECODE\"].split(':')[-1]\n",
    "            if code_in_range(pref, entry_base_code):\n",
    "\n",
    "                entry = {\n",
    "                    \"C_HLEVEL\" : b_level + 1,\n",
    "                    \"C_FULLNAME\" :  c_fullname,\n",
    "                    \"C_NAME\" : ('' if code_item == 'nan' else code_item + ' ') + code_term,\n",
    "                    \"C_BASECODE\" : c_base_code,\n",
    "                    \"C_VISUALATTRIBUTES\" : 'LA',\n",
    "                    \"C_DIMCODE\" : c_fullname,\n",
    "                    \"C_TOOLTIP\" : c_fullname.replace('\\\\',' \\\\ ')\n",
    "                }\n",
    "                morph_elements_items.append(entry | fixed)\n",
    "                break\n",
    "\n",
    "morph_elements_items_df = pd.DataFrame(morph_elements_items)"
   ]
  },
  {
   "cell_type": "code",
   "execution_count": 19,
   "metadata": {},
   "outputs": [
    {
     "data": {
      "text/plain": [
       "(6170, 25)"
      ]
     },
     "execution_count": 19,
     "metadata": {},
     "output_type": "execute_result"
    }
   ],
   "source": [
    "final_df = pd.concat(\n",
    "    [\n",
    "        final_df, \n",
    "        root_df,\n",
    "        section_df, \n",
    "        item_df,\n",
    "        code_df, \n",
    "        primary_site_df, \n",
    "        morph_elements_df,\n",
    "        morph_elements_items_df\n",
    "    ],\n",
    "    ignore_index=True\n",
    ")\n",
    "final_df.shape"
   ]
  },
  {
   "cell_type": "code",
   "execution_count": 20,
   "metadata": {},
   "outputs": [],
   "source": [
    "config = dotenv_values('env/.env')\n",
    "\n",
    "con = sc.connect(\n",
    "    user = config[\"user\"],\n",
    "    password = config[\"password\"],\n",
    "    account = config[\"account\"],\n",
    "    warehouse = config[\"warehouse\"],\n",
    "    role = config[\"role\"],\n",
    "    database = config[\"database\"],\n",
    "    schema = config[\"schema\"]\n",
    ")"
   ]
  },
  {
   "cell_type": "code",
   "execution_count": 21,
   "metadata": {},
   "outputs": [
    {
     "name": "stdout",
     "output_type": "stream",
     "text": [
      "True 1 6170\n"
     ]
    }
   ],
   "source": [
    "success, nchunks, nrows, _ = snp.write_pandas(con, \n",
    "                                              final_df, \n",
    "                                              'NAACCR_ONTOLOGY', \n",
    "                                              auto_create_table= True, \n",
    "                                              overwrite=True)\n",
    "print(success, nchunks, nrows)"
   ]
  }
 ],
 "metadata": {
  "kernelspec": {
   "display_name": "Python 3 (ipykernel)",
   "language": "python",
   "name": "python3"
  },
  "language_info": {
   "codemirror_mode": {
    "name": "ipython",
    "version": 3
   },
   "file_extension": ".py",
   "mimetype": "text/x-python",
   "name": "python",
   "nbconvert_exporter": "python",
   "pygments_lexer": "ipython3",
   "version": "3.10.12"
  }
 },
 "nbformat": 4,
 "nbformat_minor": 2
}

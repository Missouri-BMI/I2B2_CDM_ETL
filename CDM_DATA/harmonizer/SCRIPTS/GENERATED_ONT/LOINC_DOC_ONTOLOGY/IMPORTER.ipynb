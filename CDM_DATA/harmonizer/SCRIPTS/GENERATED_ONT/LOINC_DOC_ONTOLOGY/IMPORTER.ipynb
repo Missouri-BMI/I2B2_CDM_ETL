{
 "cells": [
  {
   "cell_type": "code",
   "execution_count": 240,
   "metadata": {},
   "outputs": [],
   "source": [
    "import pandas as pd\n",
    "import os\n",
    "from dotenv import dotenv_values\n",
    "import snowflake.connector\n",
    "from snowflake.connector.pandas_tools import write_pandas\n",
    "from datetime import date"
   ]
  },
  {
   "cell_type": "code",
   "execution_count": 241,
   "metadata": {},
   "outputs": [],
   "source": [
    "ct = date.today()\n",
    "\n",
    "df = pd.read_csv('Loinc.csv')\n",
    "df = df[['Id', 'ParentId', 'Level', 'Code', 'Sequence', 'CodeText', 'Component']]\n",
    "df['ParentId'] = df['ParentId'].astype('Int64')\n",
    "\n",
    "sorted_df = df.sort_values(['Level', 'Sequence'])"
   ]
  },
  {
   "cell_type": "code",
   "execution_count": 243,
   "metadata": {},
   "outputs": [],
   "source": [
    "def path(parentId, code) -> str:\n",
    "    if pd.isna(parentId):\n",
    "       return \"\\\\DocumentOntology\\\\\" + code\n",
    "    row = (sorted_df[sorted_df[\"Id\"] == parentId]).iloc[0]\n",
    "    return path(row[\"ParentId\"], str(row[\"Id\"]) + '\\\\' + code)\n",
    "    \n",
    "    "
   ]
  },
  {
   "cell_type": "code",
   "execution_count": 244,
   "metadata": {},
   "outputs": [],
   "source": [
    "list = []\n",
    "visual = []\n",
    "for index, row in sorted_df.iterrows():\n",
    "    list.append(path(row[\"ParentId\"], str(row[\"Id\"])) + '\\\\')\n",
    "    visual.append('FA' if 'LP' in row['Code'] else 'LA')\n",
    "sorted_df['fullName'] = list     \n",
    "sorted_df['visual'] = visual"
   ]
  },
  {
   "cell_type": "code",
   "execution_count": 248,
   "metadata": {},
   "outputs": [],
   "source": [
    "\n",
    "\n",
    "dictionary = {\n",
    "    \"C_HLEVEL\": map(lambda x: x + 2, sorted_df['Level'].tolist()),\n",
    "    \"C_FULLNAME\": sorted_df['fullName'].tolist(),\n",
    "    \"C_NAME\": sorted_df['CodeText'].tolist(),\n",
    "    \"C_SYNONYM_CD\": 'N',\n",
    "    \"C_VISUALATTRIBUTES\": visual,\n",
    "    \"C_TOTALNUM\": pd.NA,\n",
    "    \"C_BASECODE\": map(lambda x: 'LOINC:' + x, sorted_df['Code'].tolist()),\n",
    "    \"C_METADATAXML\": pd.NA,\n",
    "    \"C_FACTTABLECOLUMN\": 'concept_cd',\n",
    "    \"C_TABLENAME\": 'concept_dimension',\n",
    "    \"C_COLUMNNAME\": 'concept_path',\n",
    "    \"C_COLUMNDATATYPE\": 'T',\n",
    "    \"C_OPERATOR\": 'LIKE',\n",
    "    \"C_DIMCODE\": sorted_df['fullName'].tolist(),\n",
    "    \"C_COMMENT\": pd.NA,\n",
    "    \"C_TOOLTIP\": pd.NA,\n",
    "    \"M_APPLIED_PATH\": '@',\n",
    "    \"UPDATE_DATE\": ct,\n",
    "    \"DOWNLOAD_DATE\": ct,\n",
    "    \"IMPORT_DATE\": ct,\n",
    "    \"SOURCESYSTEM_CD\": 'MU',\n",
    "    \"VALUETYPE_CD\": pd.NA,\n",
    "    \"M_EXCLUSION_CD\": pd.NA,\n",
    "    \"C_PATH\": pd.NA,\n",
    "    \"C_SYMBOL\": pd.NA\n",
    "    \n",
    "}\n",
    "final_df = pd.DataFrame(dictionary)\n"
   ]
  },
  {
   "cell_type": "code",
   "execution_count": 246,
   "metadata": {},
   "outputs": [
    {
     "name": "stdout",
     "output_type": "stream",
     "text": [
      "Connecting to DB...\n",
      "Connected...\n"
     ]
    }
   ],
   "source": [
    "\n",
    "\"\"\"\n",
    "db credential\n",
    "\"\"\"\n",
    "# read db credential\n",
    "config = dotenv_values(\"./environment/.env\") \n",
    "\n",
    "# make connection\n",
    "print('Connecting to DB...')\n",
    "connection = snowflake.connector.connect(\n",
    "            user=config['USERNAME'],\n",
    "            password=config['PASSWORD'],\n",
    "            account=config['ACCOUNT'],\n",
    "            warehouse=config['WAREHOUSE'],\n",
    "            role=config['ROLE'],\n",
    "            database=config['DATABASE'],\n",
    "            schema=config['SCHEMA']\n",
    ")\n",
    "print('Connected...')\n"
   ]
  },
  {
   "cell_type": "code",
   "execution_count": 247,
   "metadata": {},
   "outputs": [
    {
     "name": "stdout",
     "output_type": "stream",
     "text": [
      "Creating Table...\n",
      "Loading Ontology...\n",
      "Done...\n"
     ]
    }
   ],
   "source": [
    "ont_table = 'DOCUMENT_ONTOLOGY'\n",
    "print('Creating Table...')\n",
    "cur = connection.cursor()\n",
    "try:\n",
    "    sql = f\"\"\"\n",
    "     CREATE OR REPLACE TABLE {ont_table} (\n",
    "        C_HLEVEL                              INT    NOT NULL,\n",
    "        C_FULLNAME                    VARCHAR(700)   NOT NULL,\n",
    "        C_NAME                                VARCHAR(2000)  NOT NULL,\n",
    "        C_SYNONYM_CD                  CHAR(1) NOT NULL,\n",
    "        C_VISUALATTRIBUTES    CHAR(3) NOT NULL,\n",
    "        C_TOTALNUM                    INT    NULL,\n",
    "        C_BASECODE                    VARCHAR(50)    NULL,\n",
    "        C_METADATAXML                 TEXT    NULL,\n",
    "        C_FACTTABLECOLUMN             VARCHAR(50)    NOT NULL,\n",
    "        C_TABLENAME                   VARCHAR(50)    NOT NULL,\n",
    "        C_COLUMNNAME                  VARCHAR(50)    NOT NULL,\n",
    "        C_COLUMNDATATYPE              VARCHAR(50)    NOT NULL,\n",
    "        C_OPERATOR                    VARCHAR(10)    NOT NULL,\n",
    "        C_DIMCODE                             VARCHAR(700)   NOT NULL,\n",
    "        C_COMMENT                             TEXT    NULL,\n",
    "        C_TOOLTIP                             VARCHAR(900)   NULL,\n",
    "        M_APPLIED_PATH                VARCHAR(700)   NOT NULL,\n",
    "        UPDATE_DATE                   DATE    NOT NULL,\n",
    "        DOWNLOAD_DATE                 DATE    NULL,\n",
    "        IMPORT_DATE                   DATE    NULL,\n",
    "        SOURCESYSTEM_CD               VARCHAR(50)    NULL,\n",
    "        VALUETYPE_CD                  VARCHAR(50)    NULL,\n",
    "        M_EXCLUSION_CD                        VARCHAR(25) NULL,\n",
    "        C_PATH                                VARCHAR(700)   NULL,\n",
    "        C_SYMBOL                              VARCHAR(50)    NULL\n",
    "    ) \n",
    "    \"\"\"\n",
    "    cur.execute(sql)\n",
    "       \n",
    "finally:\n",
    "    cur.close()\n",
    "print('Loading Ontology...')\n",
    "write_pandas(connection, final_df, ont_table)    \n",
    "# Close connection\n",
    "connection.close()\n",
    "print('Done...')"
   ]
  }
 ],
 "metadata": {
  "kernelspec": {
   "display_name": "Python 3 (ipykernel)",
   "language": "python",
   "name": "python3"
  },
  "language_info": {
   "codemirror_mode": {
    "name": "ipython",
    "version": 3
   },
   "file_extension": ".py",
   "mimetype": "text/x-python",
   "name": "python",
   "nbconvert_exporter": "python",
   "pygments_lexer": "ipython3",
   "version": "3.8.17"
  },
  "orig_nbformat": 4
 },
 "nbformat": 4,
 "nbformat_minor": 2
}
